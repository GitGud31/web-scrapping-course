{
 "cells": [
  {
   "cell_type": "code",
   "execution_count": 27,
   "metadata": {},
   "outputs": [],
   "source": [
    "# Import necessary libraries\n",
    "from selenium import webdriver  # for web scraping using a browser\n",
    "from bs4 import BeautifulSoup  # for parsing HTML content\n",
    "import pandas as pd  # for data manipulation and handling\n",
    "import time  # for adding delays in code execution\n",
    "from tqdm import tqdm  # for displaying progress bars"
   ]
  },
  {
   "cell_type": "code",
   "execution_count": 28,
   "metadata": {},
   "outputs": [],
   "source": [
    "# Initialize a Chrome WebDriver instance\n",
    "browser = webdriver.Chrome()"
   ]
  },
  {
   "cell_type": "code",
   "execution_count": 29,
   "metadata": {},
   "outputs": [],
   "source": [
    "# Prompt the user to input a YouTube channel name\n",
    "channelName = input(\"Please enter a YouTube channel: \")"
   ]
  },
  {
   "cell_type": "code",
   "execution_count": 30,
   "metadata": {},
   "outputs": [],
   "source": [
    "# Construct a Google search link for the input channel name\n",
    "link = 'https://www.google.com/search?q=' + channelName + ' youtube'"
   ]
  },
  {
   "cell_type": "code",
   "execution_count": 32,
   "metadata": {},
   "outputs": [],
   "source": [
    "# Open the constructed link in the browser\n",
    "browser.get(link)"
   ]
  },
  {
   "cell_type": "code",
   "execution_count": 33,
   "metadata": {},
   "outputs": [],
   "source": [
    "# Parse the HTML content of the page\n",
    "soup = BeautifulSoup(browser.page_source, 'html.parser')"
   ]
  },
  {
   "cell_type": "code",
   "execution_count": 34,
   "metadata": {},
   "outputs": [],
   "source": [
    "# Extract the link of the first search result (which is assumed to be the channel link)\n",
    "for i in soup.find_all('div', class_='MjjYud'):\n",
    "    link = i.find('a').get('href')\n",
    "    break"
   ]
  },
  {
   "cell_type": "code",
   "execution_count": 35,
   "metadata": {},
   "outputs": [],
   "source": [
    "# Open the channel's videos page in the browser\n",
    "browser.get(link + '/' + 'videos')"
   ]
  },
  {
   "cell_type": "code",
   "execution_count": 36,
   "metadata": {},
   "outputs": [],
   "source": [
    "# Parse the HTML content of the page\n",
    "soup = BeautifulSoup(browser.page_source, 'html.parser')"
   ]
  },
  {
   "cell_type": "code",
   "execution_count": 37,
   "metadata": {},
   "outputs": [
    {
     "name": "stderr",
     "output_type": "stream",
     "text": [
      "100%|██████████| 5/5 [00:00<00:00,  8.35it/s]\n"
     ]
    }
   ],
   "source": [
    "# Scroll down the page to load more videos dynamically\n",
    "for i in tqdm(range(0, 5000, 1000)):\n",
    "    browser.execute_script('window.scrollTo(0,' + str(i) + ')')\n",
    "    time.sleep(0.1)"
   ]
  },
  {
   "cell_type": "code",
   "execution_count": 38,
   "metadata": {},
   "outputs": [],
   "source": [
    "# Parse the HTML content of the page after scrolling\n",
    "soup = BeautifulSoup(browser.page_source, 'html.parser')"
   ]
  },
  {
   "cell_type": "code",
   "execution_count": 39,
   "metadata": {},
   "outputs": [],
   "source": [
    "# Find all video items on the page\n",
    "video_items = soup.find_all('ytd-rich-item-renderer')"
   ]
  },
  {
   "cell_type": "code",
   "execution_count": 42,
   "metadata": {},
   "outputs": [],
   "source": [
    "# Iterate over each video item and extract relevant information\n",
    "data = []\n",
    "for item in video_items:\n",
    "    link = \"https://www.youtube.com/\" + item.find('a', class_='yt-simple-endpoint focus-on-expand style-scope ytd-rich-grid-media').get('href')\n",
    "    title = item.find('a', class_='yt-simple-endpoint focus-on-expand style-scope ytd-rich-grid-media').get('title')\n",
    "    views = (item.find('span', class_=\"inline-metadata-item style-scope ytd-video-meta-block\").text.split(\" \")[0])\n",
    "    upload_time = (item.find_all('span', class_=\"inline-metadata-item style-scope ytd-video-meta-block\")[1].text)\n",
    "    data.append([link, title, views, upload_time])"
   ]
  },
  {
   "cell_type": "code",
   "execution_count": 43,
   "metadata": {},
   "outputs": [],
   "source": [
    "# Save the DataFrame to a CSV file with the channel name as filename\n",
    "df=pd.DataFrame(data,columns=['Link','Title','Views','UploadTime'])\n",
    "\n",
    "df.to_csv(channelName + '.csv', index=False)"
   ]
  }
 ],
 "metadata": {
  "kernelspec": {
   "display_name": "base",
   "language": "python",
   "name": "python3"
  },
  "language_info": {
   "codemirror_mode": {
    "name": "ipython",
    "version": 3
   },
   "file_extension": ".py",
   "mimetype": "text/x-python",
   "name": "python",
   "nbconvert_exporter": "python",
   "pygments_lexer": "ipython3",
   "version": "3.11.7"
  }
 },
 "nbformat": 4,
 "nbformat_minor": 2
}
